{
 "cells": [
  {
   "cell_type": "code",
   "execution_count": 1,
   "metadata": {},
   "outputs": [],
   "source": [
    "rel_id = {}\n",
    "id_rel = {}\n",
    "f = open(\"./relations.dict\", 'r')\n",
    "for line in f:\n",
    "    id, rel = line.strip().split(\"\\t\")\n",
    "    rel_id[rel] = int(id)\n",
    "    id_rel[int(id)] = rel\n",
    "f.close()"
   ]
  },
  {
   "cell_type": "code",
   "execution_count": 2,
   "metadata": {},
   "outputs": [
    {
     "data": {
      "text/plain": [
       "200"
      ]
     },
     "execution_count": 2,
     "metadata": {},
     "output_type": "execute_result"
    }
   ],
   "source": [
    "len(rel_id)"
   ]
  },
  {
   "cell_type": "code",
   "execution_count": 4,
   "metadata": {},
   "outputs": [],
   "source": [
    "rel2nn = {}\n",
    "f = open(\"./1-1_train.txt\", 'r')\n",
    "for line in f:\n",
    "    rel = line.strip().split(\"\\t\")[1]\n",
    "    if rel not in rel2nn:\n",
    "        rel2nn[rel_id[rel]] = 0\n",
    "f.close()"
   ]
  },
  {
   "cell_type": "code",
   "execution_count": 5,
   "metadata": {},
   "outputs": [],
   "source": [
    "f = open(\"./1-n_train.txt\", 'r')\n",
    "for line in f:\n",
    "    rel = line.strip().split(\"\\t\")[1]\n",
    "    if rel not in rel2nn:\n",
    "        rel2nn[rel_id[rel]] = 1\n",
    "f.close()"
   ]
  },
  {
   "cell_type": "code",
   "execution_count": 6,
   "metadata": {},
   "outputs": [],
   "source": [
    "f = open(\"./n-1_train.txt\", 'r')\n",
    "for line in f:\n",
    "    rel = line.strip().split(\"\\t\")[1]\n",
    "    if rel not in rel2nn:\n",
    "        rel2nn[rel_id[rel]] = 2\n",
    "f.close()"
   ]
  },
  {
   "cell_type": "code",
   "execution_count": 7,
   "metadata": {},
   "outputs": [],
   "source": [
    "f = open(\"./n-n_train.txt\", 'r')\n",
    "for line in f:\n",
    "    rel = line.strip().split(\"\\t\")[1]\n",
    "    if rel not in rel2nn:\n",
    "        rel2nn[rel_id[rel]] = 3\n",
    "f.close()"
   ]
  },
  {
   "cell_type": "code",
   "execution_count": 8,
   "metadata": {},
   "outputs": [
    {
     "data": {
      "text/plain": [
       "{53: 0,\n",
       " 54: 0,\n",
       " 56: 0,\n",
       " 81: 0,\n",
       " 94: 0,\n",
       " 144: 0,\n",
       " 146: 0,\n",
       " 164: 0,\n",
       " 175: 0,\n",
       " 190: 0,\n",
       " 192: 0,\n",
       " 194: 0,\n",
       " 196: 0,\n",
       " 201: 0,\n",
       " 226: 0,\n",
       " 228: 0,\n",
       " 230: 0,\n",
       " 1: 1,\n",
       " 22: 1,\n",
       " 50: 1,\n",
       " 55: 1,\n",
       " 59: 1,\n",
       " 63: 1,\n",
       " 71: 1,\n",
       " 78: 1,\n",
       " 87: 1,\n",
       " 102: 1,\n",
       " 125: 1,\n",
       " 126: 1,\n",
       " 132: 1,\n",
       " 140: 1,\n",
       " 149: 1,\n",
       " 153: 1,\n",
       " 158: 1,\n",
       " 161: 1,\n",
       " 165: 1,\n",
       " 168: 1,\n",
       " 173: 1,\n",
       " 189: 1,\n",
       " 207: 1,\n",
       " 211: 1,\n",
       " 215: 1,\n",
       " 233: 1,\n",
       " 11: 2,\n",
       " 16: 2,\n",
       " 24: 2,\n",
       " 25: 2,\n",
       " 33: 2,\n",
       " 34: 2,\n",
       " 39: 2,\n",
       " 43: 2,\n",
       " 48: 2,\n",
       " 51: 2,\n",
       " 60: 2,\n",
       " 62: 2,\n",
       " 74: 2,\n",
       " 80: 2,\n",
       " 82: 2,\n",
       " 83: 2,\n",
       " 84: 2,\n",
       " 85: 2,\n",
       " 86: 2,\n",
       " 91: 2,\n",
       " 100: 2,\n",
       " 105: 2,\n",
       " 108: 2,\n",
       " 109: 2,\n",
       " 110: 2,\n",
       " 111: 2,\n",
       " 113: 2,\n",
       " 115: 2,\n",
       " 116: 2,\n",
       " 118: 2,\n",
       " 120: 2,\n",
       " 124: 2,\n",
       " 127: 2,\n",
       " 128: 2,\n",
       " 129: 2,\n",
       " 133: 2,\n",
       " 135: 2,\n",
       " 136: 2,\n",
       " 138: 2,\n",
       " 139: 2,\n",
       " 143: 2,\n",
       " 147: 2,\n",
       " 154: 2,\n",
       " 155: 2,\n",
       " 159: 2,\n",
       " 160: 2,\n",
       " 162: 2,\n",
       " 166: 2,\n",
       " 167: 2,\n",
       " 172: 2,\n",
       " 181: 2,\n",
       " 182: 2,\n",
       " 183: 2,\n",
       " 184: 2,\n",
       " 185: 2,\n",
       " 186: 2,\n",
       " 187: 2,\n",
       " 191: 2,\n",
       " 193: 2,\n",
       " 195: 2,\n",
       " 199: 2,\n",
       " 200: 2,\n",
       " 202: 2,\n",
       " 203: 2,\n",
       " 205: 2,\n",
       " 206: 2,\n",
       " 208: 2,\n",
       " 209: 2,\n",
       " 210: 2,\n",
       " 212: 2,\n",
       " 213: 2,\n",
       " 217: 2,\n",
       " 219: 2,\n",
       " 221: 2,\n",
       " 223: 2,\n",
       " 224: 2,\n",
       " 225: 2,\n",
       " 232: 2,\n",
       " 234: 2,\n",
       " 235: 2,\n",
       " 236: 2,\n",
       " 0: 3,\n",
       " 2: 3,\n",
       " 3: 3,\n",
       " 4: 3,\n",
       " 5: 3,\n",
       " 6: 3,\n",
       " 7: 3,\n",
       " 8: 3,\n",
       " 9: 3,\n",
       " 10: 3,\n",
       " 12: 3,\n",
       " 13: 3,\n",
       " 14: 3,\n",
       " 15: 3,\n",
       " 17: 3,\n",
       " 18: 3,\n",
       " 19: 3,\n",
       " 20: 3,\n",
       " 21: 3,\n",
       " 23: 3,\n",
       " 26: 3,\n",
       " 27: 3,\n",
       " 28: 3,\n",
       " 29: 3,\n",
       " 30: 3,\n",
       " 31: 3,\n",
       " 32: 3,\n",
       " 35: 3,\n",
       " 36: 3,\n",
       " 37: 3,\n",
       " 38: 3,\n",
       " 40: 3,\n",
       " 41: 3,\n",
       " 42: 3,\n",
       " 44: 3,\n",
       " 45: 3,\n",
       " 46: 3,\n",
       " 47: 3,\n",
       " 49: 3,\n",
       " 52: 3,\n",
       " 57: 3,\n",
       " 58: 3,\n",
       " 61: 3,\n",
       " 64: 3,\n",
       " 65: 3,\n",
       " 66: 3,\n",
       " 67: 3,\n",
       " 68: 3,\n",
       " 69: 3,\n",
       " 70: 3,\n",
       " 72: 3,\n",
       " 73: 3,\n",
       " 75: 3,\n",
       " 76: 3,\n",
       " 77: 3,\n",
       " 79: 3,\n",
       " 88: 3,\n",
       " 89: 3,\n",
       " 90: 3,\n",
       " 92: 3,\n",
       " 93: 3,\n",
       " 95: 3,\n",
       " 96: 3,\n",
       " 97: 3,\n",
       " 98: 3,\n",
       " 99: 3,\n",
       " 101: 3,\n",
       " 103: 3,\n",
       " 104: 3,\n",
       " 106: 3,\n",
       " 107: 3,\n",
       " 112: 3,\n",
       " 114: 3,\n",
       " 117: 3,\n",
       " 119: 3,\n",
       " 121: 3,\n",
       " 122: 3,\n",
       " 123: 3,\n",
       " 130: 3,\n",
       " 131: 3,\n",
       " 134: 3,\n",
       " 137: 3,\n",
       " 141: 3,\n",
       " 142: 3,\n",
       " 145: 3,\n",
       " 148: 3,\n",
       " 150: 3,\n",
       " 151: 3,\n",
       " 152: 3,\n",
       " 156: 3,\n",
       " 157: 3,\n",
       " 163: 3,\n",
       " 169: 3,\n",
       " 170: 3,\n",
       " 171: 3,\n",
       " 174: 3,\n",
       " 176: 3,\n",
       " 177: 3,\n",
       " 178: 3,\n",
       " 179: 3,\n",
       " 180: 3,\n",
       " 188: 3,\n",
       " 197: 3,\n",
       " 198: 3,\n",
       " 204: 3,\n",
       " 214: 3,\n",
       " 216: 3,\n",
       " 218: 3,\n",
       " 220: 3,\n",
       " 222: 3,\n",
       " 227: 3,\n",
       " 229: 3,\n",
       " 231: 3}"
      ]
     },
     "execution_count": 8,
     "metadata": {},
     "output_type": "execute_result"
    }
   ],
   "source": [
    "rel2nn"
   ]
  },
  {
   "cell_type": "code",
   "execution_count": 9,
   "metadata": {},
   "outputs": [
    {
     "data": {
      "text/plain": [
       "237"
      ]
     },
     "execution_count": 9,
     "metadata": {},
     "output_type": "execute_result"
    }
   ],
   "source": [
    "len(rel2nn)"
   ]
  },
  {
   "cell_type": "code",
   "execution_count": 10,
   "metadata": {},
   "outputs": [
    {
     "data": {
      "text/plain": [
       "237"
      ]
     },
     "execution_count": 10,
     "metadata": {},
     "output_type": "execute_result"
    }
   ],
   "source": [
    "len(rel_id)"
   ]
  },
  {
   "cell_type": "code",
   "execution_count": 11,
   "metadata": {},
   "outputs": [],
   "source": [
    "import json\n",
    "with open(\"./rel2nn.json\", 'w') as f:\n",
    "    json.dump(rel2nn, f)"
   ]
  },
  {
   "cell_type": "code",
   "execution_count": null,
   "metadata": {},
   "outputs": [],
   "source": []
  }
 ],
 "metadata": {
  "kernelspec": {
   "display_name": "Python 3",
   "language": "python",
   "name": "python3"
  },
  "language_info": {
   "codemirror_mode": {
    "name": "ipython",
    "version": 3
   },
   "file_extension": ".py",
   "mimetype": "text/x-python",
   "name": "python",
   "nbconvert_exporter": "python",
   "pygments_lexer": "ipython3",
   "version": "3.6.8"
  }
 },
 "nbformat": 4,
 "nbformat_minor": 2
}
